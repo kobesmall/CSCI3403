{
 "cells": [
  {
   "cell_type": "markdown",
   "metadata": {
    "id": "sTF1R0WSAdX2"
   },
   "source": [
    "Recitation 1: Encryption\n",
    "========================\n",
    "\n",
    "In this lab we will get hands-on experience with different encryption methods: The Caesar Cipher, AES, and RSA.\n",
    "\n",
    "Start by running the command below, to install the required libraries."
   ]
  },
  {
   "cell_type": "code",
   "execution_count": null,
   "metadata": {
    "id": "SXCnfRhGDGAq"
   },
   "outputs": [],
   "source": [
    "!pip install pycrypto"
   ]
  },
  {
   "cell_type": "markdown",
   "metadata": {
    "id": "PdGA2VBgDRur"
   },
   "source": [
    "First, let's come up with a plaintext string which we will encrypt. Imagine this is some text we want to keep secret. Feel free to replace it with something else, but this exercise works best when it's about a paragraph long:"
   ]
  },
  {
   "cell_type": "code",
   "execution_count": null,
   "metadata": {
    "id": "QVmHy99lAdX5"
   },
   "outputs": [],
   "source": [
    "plaintext = (\n",
    "    \"The FitnessGram Pacer Test is a multistage aerobic capacity test that progressively gets more difficult as it continues. \"\n",
    "    \"The 20 meter pacer test will begin in 30 seconds. Line up at the start. The running speed starts slowly, but gets faster each minute after you hear this signal. \"\n",
    "    \"A single lap should be completed each time you hear this sound. Remember to run in a straight line, and run as long as possible.\")"
   ]
  },
  {
   "cell_type": "markdown",
   "metadata": {
    "id": "uXZVfd8nAdX7"
   },
   "source": [
    "Part 1: Caesar Cipher\n",
    "---------------------\n",
    "We would like to encrypt this message so that only we can read it. Let's start off by using a caesar cypher: this is a simple method of scrambling a message, by shifting each character by a secret amount. So if the secret were three, \"a\" would shift three letters to become \"d\", \"h\" would become \"k\", and so on. We can define a function to do this given a plaintext string and a secret shift value:"
   ]
  },
  {
   "cell_type": "code",
   "execution_count": null,
   "metadata": {
    "id": "QDo78UQOAdX8"
   },
   "outputs": [],
   "source": [
    "import string\n",
    "\n",
    "def caesar_cipher(plaintext: str, secret: int):\n",
    "    # This function shifts a single character.\n",
    "    def shift_char(char: str):\n",
    "        # Ignore special characters.\n",
    "        if char not in string.ascii_letters:\n",
    "            return char\n",
    "\n",
    "        # We need to do a little math so that letters at the end of the alphabet wrap around.\n",
    "        if char.isupper():\n",
    "            return chr((ord(char) - ord(\"A\") + secret) % 26 + ord(\"A\"))\n",
    "        else:\n",
    "            return chr((ord(char) - ord(\"a\") + secret) % 26 + ord(\"a\"))\n",
    "    \n",
    "    # Shift each character by the secret amount\n",
    "    shifted_chars = [shift_char(char) for char in plaintext]\n",
    "\n",
    "    # Join them back into a string\n",
    "    return \"\".join(shifted_chars)"
   ]
  },
  {
   "cell_type": "markdown",
   "metadata": {
    "id": "WZH6HqFbAdX9"
   },
   "source": [
    "Now when we run the code below, we can see that we've scrambled the text, and nobody can read it without the secret key! ...right?"
   ]
  },
  {
   "cell_type": "code",
   "execution_count": null,
   "metadata": {
    "id": "FrRc8QaaAdX9"
   },
   "outputs": [],
   "source": [
    "secret_key = 7\n",
    "\n",
    "ciphertext = caesar_cipher(plaintext, secret_key)\n",
    "\n",
    "print(\"Ciphertext:\")\n",
    "print(\"===========\")\n",
    "print(ciphertext)"
   ]
  },
  {
   "cell_type": "markdown",
   "metadata": {
    "id": "IehmbYWhAdX-"
   },
   "source": [
    "We can reverse the process by shifting backwards by the same amount. Only the same secret will work however, and shifting by a different amount will still result in scrambled text:"
   ]
  },
  {
   "cell_type": "code",
   "execution_count": null,
   "metadata": {
    "id": "gkIoO5bPAdX-"
   },
   "outputs": [],
   "source": [
    "print(\"Plaintext:\")\n",
    "print(\"==========\")\n",
    "print(caesar_cipher(ciphertext, -secret_key))\n",
    "print()\n",
    "print(\"Incorrect plaintext (uses the wrong secret key):\")\n",
    "print(\"==========\")\n",
    "print(caesar_cipher(ciphertext, -secret_key + 1))"
   ]
  },
  {
   "cell_type": "markdown",
   "metadata": {
    "id": "E7g8xKdZAdX_"
   },
   "source": [
    "Part 1a: Brute Forcing\n",
    "---------------------\n",
    "So far, this cipher can scramble a message so it cannot be read, and it can only be unscrambled with the secret key. We're secure now, right? Well, not really. For one thing, there's only 25 possible shifts you can make before the characters loop back around. An attacker could simply try each one and see which one is correct. Below is some unknown ciphertext, see if you can figure out what it is just by iterating through all 25 shifts:"
   ]
  },
  {
   "cell_type": "code",
   "execution_count": null,
   "metadata": {
    "id": "Mgq4vSJbAdYA"
   },
   "outputs": [],
   "source": [
    "unknown_ciphertext = \"Aipp, xlex aew vieppc iewc xs fvieo.\"\n",
    "print(caesar_cipher(unknown_ciphertext, -1))"
   ]
  },
  {
   "cell_type": "markdown",
   "metadata": {
    "id": "HIQyXWPqAdYB"
   },
   "source": [
    "Part 1b: Frequency Analysis\n",
    "--------------------------\n",
    "\n",
    "The small number of possiblities isn't the only problem, however. The Caesar Cipher does not scramble the characters very much, and there are a lot of patterns that we can use to determine the secret key. One tactic is frequency analysis: looking at which letters show up most often. The English language uses some letters more than others, so letters like \"E\", \"A\", and \"T\" are very common while letters like \"Z\", \"X\", and \"J\" are almost never used. We can find these frequencies online, and graph the result:"
   ]
  },
  {
   "cell_type": "code",
   "execution_count": null,
   "metadata": {
    "id": "sPvbBckYAdYC"
   },
   "outputs": [],
   "source": [
    "import matplotlib.pyplot as plt\n",
    "import numpy as np\n",
    "%matplotlib inline\n",
    "\n",
    "letter_frequencies = {\n",
    "    'A': 8.167,\n",
    "    'B': 1.492,\n",
    "    'C': 2.782,\n",
    "    'D': 4.253,\n",
    "    'E': 12.702,\n",
    "    'F': 2.228,\n",
    "    'G': 2.015,\n",
    "    'H': 6.094,\n",
    "    'I': 6.996,\n",
    "    'J': 0.153,\n",
    "    'K': 0.772,\n",
    "    'L': 4.025,\n",
    "    'M': 2.406,\n",
    "    'N': 6.749,\n",
    "    'O': 7.507,\n",
    "    'P': 1.929,\n",
    "    'Q': 0.095,\n",
    "    'R': 5.987,\n",
    "    'S': 6.327,\n",
    "    'T': 9.056,\n",
    "    'U': 2.758,\n",
    "    'V': 0.978,\n",
    "    'W': 2.360,\n",
    "    'X': 0.150,\n",
    "    'Y': 1.974,\n",
    "    'Z': 0.074\n",
    "}\n",
    "\n",
    "plt.bar(letter_frequencies.keys(), letter_frequencies.values())\n",
    "\n",
    "plt.show()"
   ]
  },
  {
   "cell_type": "markdown",
   "metadata": {
    "id": "2cFH8yoJAdYC"
   },
   "source": [
    "Now, let's write a function to show the letter frequencies of a particular piece of text, and pass it the plaintext and the ciphertext from earlier:"
   ]
  },
  {
   "cell_type": "code",
   "execution_count": null,
   "metadata": {
    "id": "uuYP6nrsAdYD"
   },
   "outputs": [],
   "source": [
    "from collections import Counter\n",
    "import base64\n",
    "\n",
    "def show_frequencies(s: str):\n",
    "    character_counts = Counter(s.upper())\n",
    "\n",
    "    plt.bar(list(string.ascii_uppercase), [character_counts.get(char, 0) for char in string.ascii_uppercase])\n",
    "    plt.show()\n",
    "\n",
    "show_frequencies(plaintext)\n",
    "show_frequencies(ciphertext)"
   ]
  },
  {
   "cell_type": "markdown",
   "metadata": {
    "id": "FdlcxzkQAdYD"
   },
   "source": [
    "The plaintexttext (the first graph) should look very to the average English Language frequency from before! The ciphertext (the second graph) looks different, however: because we are changing each character by the same amount, the graph has been shifted. However, it is easy to tell how far it was shifted just by looking at it! By looking at the very common or very uncommon letters, it is possible to tell how far they have shifted between the two graphs. This number is the supposedly \"secret\" key! Below is a large block of new ciphertext, and you are not given the secret key. See if you can calculate the key by looking at the frequency graph, without brute-forcing it."
   ]
  },
  {
   "cell_type": "code",
   "execution_count": null,
   "metadata": {
    "id": "whbdINPQAdYE"
   },
   "outputs": [],
   "source": [
    "new_ciphertext = (\n",
    "    \"Nby ZcnhymmAlug Juwyl Nymn cm u gofncmnuay uylivcw wujuwcns nymn nbun jlialymmcpyfs aynm gily xczzcwofn um cn wihnchoym. \"\n",
    "    \"Nby 20 gynyl juwyl nymn qcff vyach ch 30 mywihxm. Fchy oj un nby mnuln. Nby lohhcha mjyyx mnulnm mfiqfs, von aynm zumnyl yuwb gchony uznyl sio byul nbcm mcahuf. \"\n",
    "    \"U mchafy fuj mbiofx vy wigjfynyx yuwb ncgy sio byul nbcm miohx. Lygygvyl ni loh ch u mnlucabn fchy, uhx loh um fiha um jimmcvfy.\")\n",
    "\n",
    "show_frequencies(new_ciphertext)"
   ]
  },
  {
   "cell_type": "markdown",
   "metadata": {
    "id": "22R3em8CAdYE"
   },
   "source": [
    "Part 2: AES\n",
    "===========\n",
    "\n",
    "We can see that the Caesar Cipher is not a useful method of keeping data safe. Instead, we will use the more complex AES cipher. The AES cipher performs a much more complicated operation than simply shifting the character, which we won't go into depth on here, but suffice to say it leaves the output sufficiently scrambled. It also uses a much longer secret: a string of bits, which can be as long as necessary to ensure security."
   ]
  },
  {
   "cell_type": "code",
   "execution_count": null,
   "metadata": {
    "id": "mW9SBjU9AdYF"
   },
   "outputs": [],
   "source": [
    "from Crypto.Cipher import AES\n",
    "\n",
    "# Rather than an integer, the secret is now a long string of bytes (length must be a power of 2)\n",
    "secret = 'GZktMap1FgML5sa2'\n",
    "aes_cipher = AES.new(secret, AES.MODE_ECB)\n",
    "\n",
    "# The plaintext must be a multiple of 16 for the cipher to work, so we add some '0's to the end as padding.\n",
    "# We haven't implemented a way of removing this padding afterwards yet, so you may still see it in the output.\n",
    "padding = '0' * (16 - (len(plaintext) % 16))\n",
    "\n",
    "aes_ciphertext = aes_cipher.encrypt(plaintext + padding)\n",
    "\n",
    "print(aes_ciphertext)"
   ]
  },
  {
   "cell_type": "markdown",
   "metadata": {
    "id": "qc0qHNsqAdYF"
   },
   "source": [
    "We can see immidiately that the output is far more scrambled than before. There is no resembalance to the original string. We can still decrypt this by reversing the operation, but doing so requires the same secret as before. Using the wrong secret fails to decrypt the ciphertext, and the result is still scrambled!"
   ]
  },
  {
   "cell_type": "code",
   "execution_count": null,
   "metadata": {
    "id": "ZAjnJvVPAdYG"
   },
   "outputs": [],
   "source": [
    "print('Original secret')\n",
    "print('===============')\n",
    "print(AES.new(key=secret, mode=AES.MODE_ECB).decrypt(aes_ciphertext))\n",
    "print()\n",
    "print('Incorrect secret')\n",
    "print('================')\n",
    "print(AES.new(key='thisisincorrect!', mode=AES.MODE_ECB).decrypt(aes_ciphertext))"
   ]
  },
  {
   "cell_type": "markdown",
   "metadata": {
    "id": "5SjrKjeQAdYG"
   },
   "source": [
    "Because the secret is now a long string and not a small integer, brute-forcing the secret is much harder. This secret is 128 bits long, meaning there are **340,282,366,920,938,463,463,374,607,431,768,211,456** possible options! Here is one last piece of ciphertext, see if you can reverse it without knowing the secret in advance."
   ]
  },
  {
   "cell_type": "code",
   "execution_count": null,
   "metadata": {
    "id": "AlXJK4jwAdYG"
   },
   "outputs": [],
   "source": [
    "new_aes_ciphertext = (\n",
    "    b\"K\\xa6\\tz\\xd5Q\\x11\\x07\\xc9\\xa5\\x19pX\\xbb\\xd4\\x1e\\xcb\\x99\\xfbow&\\xfdy\\xcc\\x1e\\xf1\\xc4\\x999V\\xb8\\xb6\\x1d\\xbf\\x7f\\xc9\\xbe\\xf6\"\n",
    "    b\"\\xd5\\x10\\xbc\\x07|0\\xb3O\\xd2\\x07\\x99\\xfcr\\x05\\xd9\\xc6\\xc8\\xae\\xdb\\xe3\\xc7g\\xde%\\x02\\xfb\\xfe\\xb4\\x86\\xa3\\xa2\\x1c\\xd0h\\xb3\\xd6\"\n",
    "    b\"oT;\\x1fo\\xb4\\xef\\x7f^M\\xaa1\\x8di\\x16o\\xceg|\\\\\\xfc\\t\\xcc\\x8f\\x10\\xc9\\xb7\\x120g?/\\xb0\\xc5\\xd5\\xfc\\x1bJI!\\x00\\xfd\\xdd\\x94\\xe6,\"\n",
    "    b\"(\\xc2\\x0fJ\\x96\\xdc\\xca\\xd3^\\xc3\\xe7\\x86\\xd5\\xe2\\x95\\xe9\\xbfnh\\xd0\\xce\\xf1;\")\n",
    "\n",
    "secret = '????????????????'\n",
    "aes_cipher = AES.new(secret, AES.MODE_ECB)\n",
    "\n",
    "print(aes_cipher.decrypt(new_aes_ciphertext))"
   ]
  }
 ],
 "metadata": {
  "colab": {
   "collapsed_sections": [],
   "name": "Recitation 1",
   "provenance": []
  },
  "kernelspec": {
   "display_name": "Python 3",
   "language": "python",
   "name": "python3"
  },
  "language_info": {
   "codemirror_mode": {
    "name": "ipython",
    "version": 3
   },
   "file_extension": ".py",
   "mimetype": "text/x-python",
   "name": "python",
   "nbconvert_exporter": "python",
   "pygments_lexer": "ipython3",
   "version": "3.8.5"
  }
 },
 "nbformat": 4,
 "nbformat_minor": 1
}
