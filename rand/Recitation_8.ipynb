{
  "nbformat": 4,
  "nbformat_minor": 0,
  "metadata": {
    "colab": {
      "name": "Copy of Recitation 8",
      "provenance": [],
      "collapsed_sections": []
    },
    "kernelspec": {
      "name": "python3",
      "display_name": "Python 3"
    },
    "language_info": {
      "name": "python"
    }
  },
  "cells": [
    {
      "cell_type": "markdown",
      "source": [
        "Recitation 8: Disassembly (Ghidra)\n",
        "==================================\n",
        "\n",
        "Introduction\n",
        "------------\n",
        "\n",
        "In this lab we will be learning how to use Ghidra to reverse engineer an executable file. Ghidra is a free and open source reverse engineering tool developed by the National Security Agency (NSA). It is a cross-platform disassembly tool for Windows, Mac and Linux, and users can also develop their own plug-ins using Java or Python. It allows us to analyze malware such as malicious code and viruses, and can give network security professionals a better understanding of potential vulnerabilities in their networks and systems.\n",
        "\n",
        "Installation\n",
        "------------\n",
        "Installation directions can be found from the GitHub repo https://github.com/NationalSecurityAgency/ghidra:\n",
        "- Install the Java JDK 11 64-bit from\n",
        "https://adoptium.net/releases.html?variant=openjdk11&jvmVariant=hotspot\n",
        "- Download a Ghidra release file from https://github.com/NationalSecurityAgency/ghidra/releases\n",
        "- Extract the Ghidra release file\n",
        "- Launch Ghidra: _./ghidraRun_ (or click _ghidraRun.bat_ for Windows)\n",
        "\n",
        "\n",
        "Obtain a binary code\n",
        "---------------\n",
        "First, we need a binary file to analyze.\n",
        "- Download the file `recitation_8_linux64-bit` from Canvas (provided thanks to https://crackmes.one)\n",
        "- You can run the file if you would like (it is a Linux executable, and will run fine on https://coding.csel.io)\n",
        "  - Notice how it asks for a password, which we do not know yet\n",
        "\n",
        "Start a project\n",
        "---------------\n",
        "- Go to `File > New Project` \n",
        "- Select \"Non-Shared Project\", then select a project directory and name your project\n",
        "- Go to `File > Import File` and select the executable file\n",
        "- Make sure everything is correct, like `Format`, `Language and Compiler`, etc. Then click `OK`\n",
        "- After import, double click the binary file to start `CodeBrowser`\n",
        "- Click `Yes` on the pop-up window and leave all analyzers as default by clicking `Analyze`\n",
        "- Now you should be able to see the assembly code, a `Decompile` window, a `Program Trees` window, etc.\n",
        "\n",
        "Crack the password\n",
        "------------------\n",
        "- In the center window, you should see the assembly for the binary file. Ghidra has added some comments during its analysis, although it is still not very readable.\n",
        "- On the left sidebar, find the \"Symbol Tree\" window. This contains references to the various functions and symbols in the executable.\n",
        "- Open the \"Functions\" menu of the \"Symbol Tree\" window, and look through the defined functions. The most important one will be the \"main\" fumction.\n",
        "- The right sidebar is the decompiler. After selecting any function, it should show Ghidra's best attempt at decompiling the assembly of that function back into somewhat-readable C code.\n",
        "- Look at the disassembly of the main function. Ghidra is not able to determine the original variable names, and uses temporary values. You can select any of these values and press \"L\" to change the name to something more accurate.\n",
        "- Use the disassembly to find a valid password! Test it. Did it work? "
      ],
      "metadata": {
        "id": "3U9hXHHJWxX5"
      }
    },
    {
      "cell_type": "code",
      "source": [
        ""
      ],
      "metadata": {
        "id": "7GN5Hjek6zqe"
      },
      "execution_count": null,
      "outputs": []
    }
  ]
}