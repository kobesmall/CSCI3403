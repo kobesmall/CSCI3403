{
 "cells": [
  {
   "cell_type": "markdown",
   "metadata": {
    "id": "-EjsXxVOrs6Q"
   },
   "source": [
    "Recitaition 3: Computer Networking\n",
    "==================================\n",
    "\n",
    "In this lab we will experiment with the building blocks of the internet: IP addresses, ports, and domain names.\n",
    "\n",
    "Part 1: IP addresses and Domain Names\n",
    "-------------------------------------\n",
    "\n",
    "For this exercise, we will be learning more about the website https://csci3403.com. The name \"csci3403.com\" is the **domain name** of the website, but to access it over the internet we need to know the **IP address**. We can discover that by performing a DNS query using the `host` command (`nslookup` on Windows).\n",
    "\n",
    "- Run `host csci3403.com`. What is the server's IP address?  \n",
    "- Enter that address into your web browser- what do you see?  \n",
    "\n",
    "Domain names and IP addresses can be purchased by specific individuals or organizations. Information about their owners is public knowledge, and can be accessed from sites like https://lookup.icann.org/.\n",
    "\n",
    "- Search for the domain name \"csci3403.com\". Which domain registrar was it purchased from?  \n",
    "- Search for the IP address from earlier:\n",
    "  - Who is the IP address owned by?  \n",
    "  - This particular address is one of many that were purchased in a block (listed by the \"Address Range\" field). What is that block? How many IP addresses are in it?  \n",
    "\n",
    "  - Given what we know about the IP owner, what do we know about the website https://csci3403.com and how it is being hosted?  \n",
    "\n",
    "- Find your own IP address, using the `ifconfig` command on Linux or `ipconfig` command on Windows. It likely starts with `192.168` or `10`, why is that? How is it different than the IP address for https://csci3403.com?  \n",
    "- See what IP address other websites see when you connect to them, by looking up `what is my ip` on Google or going to a site like https://whatismyipaddress.com/. Why is this different than the address from the previous step?  \n",
    "\n",
    "Part 2: Ports\n",
    "-------------\n",
    "\n",
    "If a single website would like to host multiple services, it does so by assigning each service a unique **port** number from 0-65535. Ports are specified with the notation `<hostname or ip address>:<port>`.\n",
    "\n",
    "- Specify port 443 (the default encrypted web port) by going to https://csci3403.com:443 (note that most browsers will not display the default port). What happens?  \n",
    "- Try to specify a different port, say https://csci3403.com:444. What happens? Why?  \n",
    "\n",
    "Because there are only 65536 different port numbers, we can test each one fairly quickly. One tool for this is `nmap`- directions to install it locally can be found at https://nmap.org, but you can download it as a static binary to a Jupyter Notebook by running the following commands:\n",
    "\n",
    "`$ wget https://github.com/andrew-d/static-binaries/raw/master/binaries/linux/x86_64/nmap`  \n",
    "`$ chmod +x nmap`\n",
    "\n",
    "**Note: You have permission to use nmap to scan https://csci3403.com, but do not use it to scan other websites without permission. See https://nmap.org/book/legal-issues.html for more information on the legal aspect of this.**\n",
    "\n",
    "- Test which of the first 2000 ports are active by running the command `./nmap csci3403.com -p 1-2000`. What do you see?  \n",
    "- There are a few services running on the normal \"default\" ports. What are they? Look up each one- what are they doing? Are any of them a potential security risk?  \n",
    "\n",
    "Part 3: Netcat\n",
    "==============\n",
    "\n",
    "We can send and receive raw data over the internet using the program `netcat`, which is abbreviated as `nc`.\n",
    "- We can connect to a remote server with the command `nc <host> <port>`. Try connecting to Google on the default HTTP port with `nc google.com 80`. You can then request the main Google page by typing `GET / HTTP/1.0` followed by two newlines (this will get the page in raw text format, but you can get the idea).\n",
    "- Netcat can be used as both a client, and a server. Open two terminal windows, and pick a port number. This can be any number between 1023 and 65535, as long as nobody else is using it. In one window, run `nc -l <port>` to start listening for connections on that port, and in the other, run `nc 127.0.0.1 <port>` to connect to the first window. `127.0.0.1` is a special IP address that tells Netcat to connect to a port on the local computer, rather than another computer over the internet. You should now be able to send text from either Netcat instance, and see it received by the other one. If you have time, try using this to send messages to a classmate on the same shared computer (such as https://coding.csel.io) rather than two terminal windows. One person should listen for connections, while the other user connects."
   ]
  },
  {
   "cell_type": "code",
   "execution_count": null,
   "metadata": {
    "id": "X8jEk8b3Ev4v"
   },
   "outputs": [],
   "source": []
  }
 ],
 "metadata": {
  "colab": {
   "name": "Recitation 3 questions",
   "provenance": []
  },
  "kernelspec": {
   "display_name": "Python 3",
   "language": "python",
   "name": "python3"
  },
  "language_info": {
   "codemirror_mode": {
    "name": "ipython",
    "version": 3
   },
   "file_extension": ".py",
   "mimetype": "text/x-python",
   "name": "python",
   "nbconvert_exporter": "python",
   "pygments_lexer": "ipython3",
   "version": "3.8.5"
  }
 },
 "nbformat": 4,
 "nbformat_minor": 1
}
